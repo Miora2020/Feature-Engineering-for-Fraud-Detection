{
 "cells": [
  {
   "cell_type": "markdown",
   "metadata": {},
   "source": [
    "# Supervised Machine Learning Techniques for Anamaly Detection\n",
    "\n",
    "### Random Forest and Gradient Boosting \n",
    "\n",
    "Anderson Nelson  <br>\n",
    "Date: 11/17/2019 <br>\n",
    "\n",
    "### Introduction\n",
    "\n",
    "In this exercise, I will walk you through my approach to create a model to identify fraud in financial transaction data. I will cover data preparing the data and train two different model Random Forest and a Gradient Boosting model and optimize the performance by tuning the parameters.  "
   ]
  },
  {
   "cell_type": "code",
   "execution_count": 1,
   "metadata": {},
   "outputs": [],
   "source": [
    "import numpy as np\n",
    "import datetime\n",
    "import h2o \n",
    "\n",
    "import pandas as pd\n",
    "import matplotlib.pyplot as plt\n",
    "import seaborn as sns\n",
    "\n",
    "\n",
    "from sklearn.metrics import roc_curve,auc\n",
    "from sklearn.metrics import average_precision_score\n",
    "from sklearn.metrics import precision_recall_curve\n",
    "from sklearn.model_selection import train_test_split\n",
    "from sklearn.preprocessing import StandardScaler\n",
    "\n",
    "from h2o.estimators.gbm import H2OGradientBoostingEstimator\n",
    "from h2o.estimators.random_forest import H2ORandomForestEstimator\n",
    "from h2o.grid.grid_search import H2OGridSearch\n",
    "\n",
    "import warnings\n",
    "warnings.filterwarnings('ignore')"
   ]
  },
  {
   "cell_type": "code",
   "execution_count": 2,
   "metadata": {},
   "outputs": [],
   "source": [
    "def VarImp(model_name):    \n",
    "    # plot the variable importance\n",
    "    plt.rcdefaults()\n",
    "    variables = model_name._model_json['output']['variable_importances']['variable']\n",
    "    y_pos = np.arange(len(variables))\n",
    "    fig, ax = plt.subplots(figsize = (6,len(variables)/2))\n",
    "    scaled_importance = model_name._model_json['output']['variable_importances']['scaled_importance']\n",
    "    ax.barh(y_pos,scaled_importance,align='center',color='green')\n",
    "    ax.set_yticks(y_pos)\n",
    "    ax.set_yticklabels(variables)\n",
    "    ax.invert_yaxis()\n",
    "    ax.set_xlabel('Scaled Importance')\n",
    "    ax.set_title('Variable Importance')\n",
    "    plt.show()\n",
    "    \n",
    "def createGains(model, test_hex):\n",
    "    predictions = model.predict(test_hex)\n",
    "    \n",
    "    predictions = predictions.as_data_frame()\n",
    "    test_hex = test_hex.as_data_frame()\n",
    "\n",
    "    test_hex['loan_default'] = np.where(test_hex['loan_default'] == 'No', 0,1)\n",
    "    predictions['predict'] = np.where(predictions['predict'] == 'No',0,1)\n",
    "\n",
    "    test_scores = pd.concat([predictions['predict'],test_hex['loan_default']], axis=1)\n",
    "\n",
    "\n",
    "    #sort on prediction (descending), add id, and decile for groups containing 1/10 of datapoints\n",
    "    test_scores = test_scores.sort_values(by='predict',ascending=False)\n",
    "    test_scores['row_id'] = range(0,0+len(test_scores))\n",
    "    test_scores['decile'] = ( test_scores['row_id'] / (len(test_scores)/10) ).astype(int)\n",
    "    #see count by decile\n",
    "    test_scores.loc[test_scores['decile'] == 10]=9\n",
    "    test_scores['decile'].value_counts()\n",
    "\n",
    "    #create gains table\n",
    "    gains = test_scores.groupby('decile')['loan_default'].agg(['count','sum'])\n",
    "    gains.columns = ['count','actual']\n",
    "    \n",
    "\n",
    "    #add features to gains table\n",
    "    gains['non_actual'] = gains['count'] - gains['actual']\n",
    "    gains['cum_count'] = gains['count'].cumsum()\n",
    "    gains['cum_actual'] = gains['actual'].cumsum()\n",
    "    gains['cum_non_actual'] = gains['non_actual'].cumsum()\n",
    "    gains['percent_cum_actual'] = (gains['cum_actual'] / np.max(gains['cum_actual'])).round(2)\n",
    "    gains['percent_cum_non_actual'] = (gains['cum_non_actual'] / np.max(gains['cum_non_actual'])).round(2)\n",
    "    gains['if_random'] = np.max(gains['cum_actual']) /10 \n",
    "    gains['if_random'] = gains['if_random'].cumsum()\n",
    "    gains['lift'] = (gains['cum_actual'] / gains['if_random']).round(2)\n",
    "    gains['K_S'] = np.abs( gains['percent_cum_actual'] -  gains['percent_cum_non_actual'] ) * 100\n",
    "    gains['gain']=(gains['cum_actual']/gains['cum_count']*100).round(2)\n",
    "    gains = pd.DataFrame(gains)\n",
    "    return(gains)\n",
    "\n",
    "\n",
    "def ROC_AUC(my_result,df,target):\n",
    "    \n",
    "    y_pred = my_result.predict(df).as_data_frame()\n",
    "    df = df.as_data_frame()\n",
    "    df[target] = np.where(df[target] == 'No', 0,1)\n",
    "    # ROC\n",
    "    y_actual = df[target]\n",
    "    \n",
    "    y_pred['predict'] = np.where(y_pred['predict'] == 'No', 0,1)\n",
    "    \n",
    "    fpr = list()\n",
    "    tpr = list()\n",
    "    roc_auc = list()\n",
    "    fpr,tpr,_ = roc_curve(y_actual,y_pred['predict'])\n",
    "    roc_auc = auc(fpr,tpr)\n",
    "    \n",
    "    # Precision-Recall\n",
    "    average_precision = average_precision_score(y_actual,y_pred['predict'])\n",
    "\n",
    "    print('')\n",
    "    print('   * ROC curve: The ROC curve plots the true positive rate vs. the false rositive sate')\n",
    "    print('')\n",
    "    print('\t  * The area under the curve (AUC): A value between 0.5 (random) and 1.0 (perfect), measuring the prediction accuracy')\n",
    "    print('')\n",
    "    print('   * Recall (R) = The number of true positives / (the number of true positives + the number of false negatives)')\n",
    "    print('')\n",
    "    \n",
    "    # plotting\n",
    "    plt.figure(figsize=(9,6))\n",
    "\n",
    "    # ROC\n",
    "    plt.subplot(1,2,1)\n",
    "    plt.plot(fpr,tpr,color='darkorange',lw=2,label='ROC curve (aare=%0.2f)' % roc_auc)\n",
    "    plt.plot([0,1],[0,1],color='navy',lw=3,linestyle='--')\n",
    "    plt.xlim([0.0,1.0])\n",
    "    plt.ylim([0.0,1.05])\n",
    "    plt.xlabel('False Positive Rate')\n",
    "    plt.ylabel('True Positive Rate')\n",
    "    plt.title('Receiver operating characteristic: AUC={0:0.4f}'.format(roc_auc))\n",
    "    plt.legend(loc='lower right')\n",
    "\n",
    "    # Precision-Recall\n",
    "    plt.subplot(1,2,2)\n",
    "    precision,recall,_ = precision_recall_curve(y_actual,y_pred['predict'])\n",
    "    plt.step(recall,precision,color='b',alpha=0.2,where='post')\n",
    "    plt.fill_between(recall,precision,step='post',alpha=0.2,color='b')\n",
    "    plt.xlabel('Recall')\n",
    "    plt.ylabel('Precision')\n",
    "    plt.ylim([0.0,1.05])\n",
    "    plt.xlim([0.0,1.0])\n",
    "    plt.title('Precision-Recall curve: PR={0:0.4f}'.format(average_precision))\n",
    "    plt.show()\n",
    "    \n",
    "\n",
    "def plot_auc(model):\n",
    "    plt.figure(figsize=(9,6))\n",
    "    plt.plot(model.roc()[0],model.roc()[1],color='darkorange',lw=2)\n",
    "    plt.plot([0,1],[0,1],color='navy',lw=3,linestyle='--')\n",
    "    plt.xlabel('False Positive Rate')\n",
    "    plt.ylabel('True Positive Rate')\n",
    "    plt.title(f'Receiver operating characteristic: AUC={model.auc():0.4f}')\n",
    "    plt.show()\n",
    "    \n",
    "def column_scaler(data): \n",
    "    data_scaler = StandardScaler()\n",
    "    for value in data.columns: \n",
    "        testing_data = pd.DataFrame(data.loc[:,value])\n",
    "        data.loc[:,value] = data_scaler.fit_transform(testing_data)\n",
    "        return data"
   ]
  },
  {
   "cell_type": "code",
   "execution_count": 3,
   "metadata": {},
   "outputs": [],
   "source": [
    "# read data \n",
    "data = pd.read_csv('../Data/XYZloan_default_selected_vars.csv')\n",
    "\n",
    "# drop neccessary columns \n",
    "data = data.drop(columns=['Unnamed: 0','Unnamed: 0.1'])"
   ]
  },
  {
   "cell_type": "markdown",
   "metadata": {},
   "source": [
    "The first thing i wanted to do is check whether the data contains any duplicate id."
   ]
  },
  {
   "cell_type": "code",
   "execution_count": 4,
   "metadata": {},
   "outputs": [
    {
     "data": {
      "text/plain": [
       "0"
      ]
     },
     "execution_count": 4,
     "metadata": {},
     "output_type": "execute_result"
    }
   ],
   "source": [
    "# are there any duplicated id \n",
    "sum(data.id.duplicated())"
   ]
  },
  {
   "cell_type": "markdown",
   "metadata": {},
   "source": [
    "The first step to an analysis is to understand the data. Lets start with understanding how missing values."
   ]
  },
  {
   "cell_type": "code",
   "execution_count": 5,
   "metadata": {},
   "outputs": [
    {
     "data": {
      "text/plain": [
       "'9.0% of the data is missing'"
      ]
     },
     "execution_count": 5,
     "metadata": {},
     "output_type": "execute_result"
    }
   ],
   "source": [
    "f'{round(sum(data.isna().sum()) /(data.shape[1] * data.shape[0]),2) * 100}% of the data is missing'"
   ]
  },
  {
   "cell_type": "code",
   "execution_count": 6,
   "metadata": {},
   "outputs": [
    {
     "data": {
      "text/plain": [
       "'9.0% of the data is null'"
      ]
     },
     "execution_count": 6,
     "metadata": {},
     "output_type": "execute_result"
    }
   ],
   "source": [
    "f'{round(sum(data.isnull().sum()) /(data.shape[1] * data.shape[0]),2) * 100}% of the data is null'"
   ]
  },
  {
   "cell_type": "markdown",
   "metadata": {},
   "source": [
    "The number of missing values represents a small percentage of the dataset. However, those values shouldn’t be ignored. There are a number of different strategies to deal with missing values.\n",
    "\n",
    "    1. Imputation\n",
    "    2. Deletion\n",
    "\n",
    "Exploring the colums with missing data will allow us to determine the best strategy to solve the missing data problem."
   ]
  },
  {
   "cell_type": "code",
   "execution_count": 7,
   "metadata": {},
   "outputs": [],
   "source": [
    "col_missing = round((data.isna().sum() / data.shape[0]) * 100,2)"
   ]
  },
  {
   "cell_type": "markdown",
   "metadata": {},
   "source": [
    "The graph shows us that there are a few collumn where more than 99% of the data is missing or null"
   ]
  },
  {
   "cell_type": "code",
   "execution_count": 8,
   "metadata": {},
   "outputs": [
    {
     "data": {
      "image/png": "[encoded data removed]",
      "text/plain": [
       "<Figure size 1152x360 with 1 Axes>"
      ]
     },
     "metadata": {
      "needs_background": "light"
     },
     "output_type": "display_data"
    }
   ],
   "source": [
    "fig = plt.figure(figsize=(16,5))\n",
    "col_missing.plot()\n",
    "plt.show()"
   ]
  },
  {
   "cell_type": "code",
   "execution_count": 9,
   "metadata": {},
   "outputs": [
    {
     "data": {
      "text/plain": [
       "TD044    100.00\n",
       "TD048    100.00\n",
       "TD051     99.99\n",
       "TD054     99.98\n",
       "TD055    100.00\n",
       "TD061     99.99\n",
       "TD062    100.00\n",
       "dtype: float64"
      ]
     },
     "execution_count": 9,
     "metadata": {},
     "output_type": "execute_result"
    }
   ],
   "source": [
    "col_missing[col_missing > 99]"
   ]
  },
  {
   "cell_type": "markdown",
   "metadata": {},
   "source": [
    "We will remove those columns since "
   ]
  },
  {
   "cell_type": "code",
   "execution_count": 10,
   "metadata": {},
   "outputs": [
    {
     "data": {
      "image/png": "[encoded data removed]",
      "text/plain": [
       "<Figure size 864x864 with 1 Axes>"
      ]
     },
     "metadata": {
      "needs_background": "light"
     },
     "output_type": "display_data"
    }
   ],
   "source": [
    "data = data.drop(columns=col_missing[col_missing > 99].index)\n",
    "col_missing = round((data.isna().sum() / data.shape[0]) * 100,2)\n",
    "fig = plt.figure(figsize=(12,12))\n",
    "col_missing.plot()\n",
    "plt.show()"
   ]
  },
  {
   "cell_type": "markdown",
   "metadata": {},
   "source": [
    "A few users represent the missing values in the data; after further analysis, it seems that missing patterns exist from a distinct group of users. The columns that have missing values also follow a pattern; they are all related to the phone. There are several reasons why that column could be missing: but the most likely reason is that those people don’t have a phone number, or it was never provided to the company.\n",
    "\n",
    "The best option is to either remove them from the data or impute with 0. If we exclude from the data, a small but essential segment of our population could be misrepresented; on the contrary, if we include it could potentially skew the analysis since we assumed the missing values.\n",
    "\n",
    "However, inputting the values with 0 makes the most sense for this data since, given that the users do not have a phone, the bank would be unable to call, leave voicemails and converse with the client, which is fair."
   ]
  },
  {
   "cell_type": "code",
   "execution_count": 11,
   "metadata": {},
   "outputs": [
    {
     "data": {
      "text/plain": [
       "TD022    24.50\n",
       "TD023     9.58\n",
       "TD024     4.62\n",
       "MB005     3.49\n",
       "TD025     3.19\n",
       "         ...  \n",
       "CR015     0.00\n",
       "CR017     0.00\n",
       "CR018     0.00\n",
       "CR019     0.00\n",
       "id        0.00\n",
       "Length: 80, dtype: float64"
      ]
     },
     "execution_count": 11,
     "metadata": {},
     "output_type": "execute_result"
    }
   ],
   "source": [
    "col_missing.sort_values(ascending=False)"
   ]
  },
  {
   "cell_type": "code",
   "execution_count": 12,
   "metadata": {},
   "outputs": [],
   "source": [
    "data = data.fillna(0)"
   ]
  },
  {
   "cell_type": "markdown",
   "metadata": {},
   "source": [
    "The MB007 column contains many categorical values. I discovered that the top 9 values contribute to over 90% of the distribution. I gave the other categories the value of 'Other'. "
   ]
  },
  {
   "cell_type": "code",
   "execution_count": 13,
   "metadata": {},
   "outputs": [],
   "source": [
    "MB007_value_count = pd.DataFrame(data.MB007.value_counts())\n",
    "MB007_value_count['cum_sum'] = MB007_value_count.cumsum()\n",
    "MB007_value_count['%'] = MB007_value_count['cum_sum'] / 80000\n",
    "MB007_value_count = MB007_value_count.drop(index='Noinfo')"
   ]
  },
  {
   "cell_type": "code",
   "execution_count": 14,
   "metadata": {},
   "outputs": [],
   "source": [
    "data['MB007'] = data['MB007'].apply(lambda i: i if i in MB007_value_count[1:10].index else 'Other')"
   ]
  },
  {
   "cell_type": "markdown",
   "metadata": {},
   "source": [
    "Since the values in column MBOO7 and AP006 are not ordinal, to prevent the model from assigning a higher value to the categorical data. I will One hot encode the variables "
   ]
  },
  {
   "cell_type": "code",
   "execution_count": 15,
   "metadata": {},
   "outputs": [],
   "source": [
    "data = pd.concat([data.reset_index(drop=True), pd.get_dummies(data.MB007)], axis=1)\n",
    "data = pd.concat([data.reset_index(drop=True), pd.get_dummies(data.AP006)], axis=1)\n",
    "data = data.drop(columns=['MB007','AP006'])"
   ]
  },
  {
   "cell_type": "markdown",
   "metadata": {},
   "source": [
    "After searching throughout the entire model for abnormalities, I found that the are numerous -99 value, which is another form of Null recorded. A small number of users have a considerable proportion of 99 values in their records. Those users can skew the model results, and I remove them."
   ]
  },
  {
   "cell_type": "code",
   "execution_count": 16,
   "metadata": {},
   "outputs": [],
   "source": [
    "# how many -99 values per user id \n",
    "user_list_99 = []\n",
    "for row in range(0, len(data)):\n",
    "    row_data = data.iloc[row]\n",
    "    user_list_99.append(list(row_data).count(-99))"
   ]
  },
  {
   "cell_type": "code",
   "execution_count": 17,
   "metadata": {},
   "outputs": [],
   "source": [
    "_99_count= pd.DataFrame({'id': data.iloc[:,0],\n",
    "             '99_count' : user_list_99})"
   ]
  },
  {
   "cell_type": "code",
   "execution_count": 18,
   "metadata": {},
   "outputs": [
    {
     "data": {
      "text/plain": [
       "36    1773\n",
       "42    1534\n",
       "Name: 99_count, dtype: int64"
      ]
     },
     "execution_count": 18,
     "metadata": {},
     "output_type": "execute_result"
    }
   ],
   "source": [
    "# how many id have more than 1 -99 values and how many 99 values exsist \n",
    "_99_count[_99_count['99_count'] > 0]\n",
    "_99_count[_99_count['99_count'] > 0]['99_count'].value_counts()"
   ]
  },
  {
   "cell_type": "code",
   "execution_count": 19,
   "metadata": {},
   "outputs": [
    {
     "data": {
      "text/plain": [
       "'4.13% of users have more than 36 values labels as -99 in their respective row'"
      ]
     },
     "execution_count": 19,
     "metadata": {},
     "output_type": "execute_result"
    }
   ],
   "source": [
    "f'{round((len(_99_count[_99_count[\"99_count\"] > 0][\"99_count\"]) / len(data)) * 100,2)}% of users have more than 36 values labels as -99 in their respective row'"
   ]
  },
  {
   "cell_type": "code",
   "execution_count": 20,
   "metadata": {},
   "outputs": [],
   "source": [
    "# remove the ids with -99 values \n",
    "_99_count[_99_count['99_count'] > 0]['id'].values\n",
    "data = data[~data.iloc[:,0].isin(_99_count[_99_count['99_count'] > 0]['id'].values)].reset_index()"
   ]
  },
  {
   "cell_type": "markdown",
   "metadata": {},
   "source": [
    "Lastly, I found that the date variable had predictive power in my model, However, it doesn't make sense to include in my model. "
   ]
  },
  {
   "cell_type": "code",
   "execution_count": 21,
   "metadata": {},
   "outputs": [],
   "source": [
    "# covert AP005 into date and time \n",
    "data = data.drop(columns='AP005')"
   ]
  },
  {
   "cell_type": "markdown",
   "metadata": {},
   "source": [
    "Convert 0 = No and 1 = Yes in the default"
   ]
  },
  {
   "cell_type": "code",
   "execution_count": 22,
   "metadata": {},
   "outputs": [],
   "source": [
    "# convert the loan_faults into categerical \n",
    "data['loan_default'] = np.where(data['loan_default'] == 0, 'No','Yes')"
   ]
  },
  {
   "cell_type": "markdown",
   "metadata": {},
   "source": [
    "#### Standardized valriables: \n",
    "\n",
    "The dataset contains features highly varying in magnitudes, units and range. Since, most of the machine learning algorithms use Eucledian distance between two data points in their computations this could potential be a problem if not addressed.\n",
    "\n",
    "However, Tree based models are not distance based models and can handle varying ranges of features. I elected not to scale my variables since while modelling trees."
   ]
  },
  {
   "cell_type": "code",
   "execution_count": 23,
   "metadata": {},
   "outputs": [],
   "source": [
    "clean_data= data.drop(columns=['index', 'id'])"
   ]
  },
  {
   "cell_type": "code",
   "execution_count": 24,
   "metadata": {},
   "outputs": [],
   "source": [
    "train, test = train_test_split(\n",
    "    clean_data, test_size=0.30, random_state=23)\n",
    "\n",
    "target = 'loan_default'\n",
    "predictors = train.columns[1:]"
   ]
  },
  {
   "cell_type": "code",
   "execution_count": 26,
   "metadata": {},
   "outputs": [
    {
     "name": "stdout",
     "output_type": "stream",
     "text": [
      "Checking whether there is an H2O instance running at http://localhost:54321 ..... not found.\n",
      "Attempting to start a local H2O server...\n"
     ]
    },
    {
     "ename": "H2OStartupError",
     "evalue": "Cannot find Java. Please install the latest JRE from\nhttp://www.oracle.com/technetwork/java/javase/downloads/index.html",
     "output_type": "error",
     "traceback": [
      "\u001b[1;31m---------------------------------------------------------------------------\u001b[0m",
      "\u001b[1;31mH2OConnectionError\u001b[0m                        Traceback (most recent call last)",
      "\u001b[1;32m~\\anaconda3\\lib\\site-packages\\h2o\\h2o.py\u001b[0m in \u001b[0;36minit\u001b[1;34m(url, ip, port, name, https, cacert, insecure, username, password, cookies, proxy, start_h2o, nthreads, ice_root, log_dir, log_level, max_log_file_size, enable_assertions, max_mem_size, min_mem_size, strict_version_check, ignore_config, extra_classpath, jvm_custom_args, bind_to_localhost, **kwargs)\u001b[0m\n\u001b[0;32m    284\u001b[0m     \u001b[1;32mtry\u001b[0m\u001b[1;33m:\u001b[0m\u001b[1;33m\u001b[0m\u001b[1;33m\u001b[0m\u001b[0m\n\u001b[1;32m--> 285\u001b[1;33m         h2oconn = H2OConnection.open(url=url, ip=ip, port=port, name=name, https=https,\n\u001b[0m\u001b[0;32m    286\u001b[0m                                      \u001b[0mverify_ssl_certificates\u001b[0m\u001b[1;33m=\u001b[0m\u001b[0mverify_ssl_certificates\u001b[0m\u001b[1;33m,\u001b[0m \u001b[0mcacert\u001b[0m\u001b[1;33m=\u001b[0m\u001b[0mcacert\u001b[0m\u001b[1;33m,\u001b[0m\u001b[1;33m\u001b[0m\u001b[1;33m\u001b[0m\u001b[0m\n",
      "\u001b[1;32m~\\anaconda3\\lib\\site-packages\\h2o\\backend\\connection.py\u001b[0m in \u001b[0;36mopen\u001b[1;34m(server, url, ip, port, name, https, auth, verify_ssl_certificates, cacert, proxy, cookies, verbose, _msgs)\u001b[0m\n\u001b[0;32m    383\u001b[0m             \u001b[0mconn\u001b[0m\u001b[1;33m.\u001b[0m\u001b[0m_timeout\u001b[0m \u001b[1;33m=\u001b[0m \u001b[1;36m3.0\u001b[0m\u001b[1;33m\u001b[0m\u001b[1;33m\u001b[0m\u001b[0m\n\u001b[1;32m--> 384\u001b[1;33m             \u001b[0mconn\u001b[0m\u001b[1;33m.\u001b[0m\u001b[0m_cluster\u001b[0m \u001b[1;33m=\u001b[0m \u001b[0mconn\u001b[0m\u001b[1;33m.\u001b[0m\u001b[0m_test_connection\u001b[0m\u001b[1;33m(\u001b[0m\u001b[0mretries\u001b[0m\u001b[1;33m,\u001b[0m \u001b[0mmessages\u001b[0m\u001b[1;33m=\u001b[0m\u001b[0m_msgs\u001b[0m\u001b[1;33m)\u001b[0m\u001b[1;33m\u001b[0m\u001b[1;33m\u001b[0m\u001b[0m\n\u001b[0m\u001b[0;32m    385\u001b[0m             \u001b[1;31m# If a server is unable to respond within 1s, it should be considered a bug. However we disable this\u001b[0m\u001b[1;33m\u001b[0m\u001b[1;33m\u001b[0m\u001b[1;33m\u001b[0m\u001b[0m\n",
      "\u001b[1;32m~\\anaconda3\\lib\\site-packages\\h2o\\backend\\connection.py\u001b[0m in \u001b[0;36m_test_connection\u001b[1;34m(self, max_retries, messages)\u001b[0m\n\u001b[0;32m    682\u001b[0m         \u001b[1;32melse\u001b[0m\u001b[1;33m:\u001b[0m\u001b[1;33m\u001b[0m\u001b[1;33m\u001b[0m\u001b[0m\n\u001b[1;32m--> 683\u001b[1;33m             raise H2OConnectionError(\"Could not establish link to the H2O cloud %s after %d retries\\n%s\"\n\u001b[0m\u001b[0;32m    684\u001b[0m                                      % (self._base_url, max_retries, \"\\n\".join(errors)))\n",
      "\u001b[1;31mH2OConnectionError\u001b[0m: Could not establish link to the H2O cloud http://localhost:54321 after 5 retries\n[17:24.08] H2OConnectionError: Unexpected HTTP error: HTTPConnectionPool(host='localhost', port=54321): Max retries exceeded with url: /3/Cloud (Caused by NewConnectionError('<urllib3.connection.HTTPConnection object at 0x00000267D5408D60>: Failed to establish a new connection: [WinError 10061] No connection could be made because the target machine actively refused it'))\n[17:28.30] H2OConnectionError: Unexpected HTTP error: HTTPConnectionPool(host='localhost', port=54321): Max retries exceeded with url: /3/Cloud (Caused by NewConnectionError('<urllib3.connection.HTTPConnection object at 0x00000267D541BDF0>: Failed to establish a new connection: [WinError 10061] No connection could be made because the target machine actively refused it'))\n[17:32.53] H2OConnectionError: Unexpected HTTP error: HTTPConnectionPool(host='localhost', port=54321): Max retries exceeded with url: /3/Cloud (Caused by NewConnectionError('<urllib3.connection.HTTPConnection object at 0x00000267D540F2E0>: Failed to establish a new connection: [WinError 10061] No connection could be made because the target machine actively refused it'))\n[17:36.77] H2OConnectionError: Unexpected HTTP error: HTTPConnectionPool(host='localhost', port=54321): Max retries exceeded with url: /3/Cloud (Caused by NewConnectionError('<urllib3.connection.HTTPConnection object at 0x00000267D5412790>: Failed to establish a new connection: [WinError 10061] No connection could be made because the target machine actively refused it'))\n[17:40.99] H2OConnectionError: Unexpected HTTP error: HTTPConnectionPool(host='localhost', port=54321): Max retries exceeded with url: /3/Cloud (Caused by NewConnectionError('<urllib3.connection.HTTPConnection object at 0x00000267D536D2B0>: Failed to establish a new connection: [WinError 10061] No connection could be made because the target machine actively refused it'))",
      "\nDuring handling of the above exception, another exception occurred:\n",
      "\u001b[1;31mH2OStartupError\u001b[0m                           Traceback (most recent call last)",
      "\u001b[1;32m<ipython-input-26-95453bf1556d>\u001b[0m in \u001b[0;36m<module>\u001b[1;34m\u001b[0m\n\u001b[1;32m----> 1\u001b[1;33m \u001b[0mh2o\u001b[0m\u001b[1;33m.\u001b[0m\u001b[0minit\u001b[0m\u001b[1;33m(\u001b[0m\u001b[1;33m)\u001b[0m\u001b[1;33m\u001b[0m\u001b[1;33m\u001b[0m\u001b[0m\n\u001b[0m",
      "\u001b[1;32m~\\anaconda3\\lib\\site-packages\\h2o\\h2o.py\u001b[0m in \u001b[0;36minit\u001b[1;34m(url, ip, port, name, https, cacert, insecure, username, password, cookies, proxy, start_h2o, nthreads, ice_root, log_dir, log_level, max_log_file_size, enable_assertions, max_mem_size, min_mem_size, strict_version_check, ignore_config, extra_classpath, jvm_custom_args, bind_to_localhost, **kwargs)\u001b[0m\n\u001b[0;32m    299\u001b[0m                                      \u001b[1;34m' instance of H2O with https manually '\u001b[0m\u001b[1;33m\u001b[0m\u001b[1;33m\u001b[0m\u001b[0m\n\u001b[0;32m    300\u001b[0m                                      '(https://docs.h2o.ai/h2o/latest-stable/h2o-docs/welcome.html#new-user-quick-start).')\n\u001b[1;32m--> 301\u001b[1;33m         hs = H2OLocalServer.start(nthreads=nthreads, enable_assertions=enable_assertions, max_mem_size=mmax,\n\u001b[0m\u001b[0;32m    302\u001b[0m                                   \u001b[0mmin_mem_size\u001b[0m\u001b[1;33m=\u001b[0m\u001b[0mmmin\u001b[0m\u001b[1;33m,\u001b[0m \u001b[0mice_root\u001b[0m\u001b[1;33m=\u001b[0m\u001b[0mice_root\u001b[0m\u001b[1;33m,\u001b[0m \u001b[0mlog_dir\u001b[0m\u001b[1;33m=\u001b[0m\u001b[0mlog_dir\u001b[0m\u001b[1;33m,\u001b[0m \u001b[0mlog_level\u001b[0m\u001b[1;33m=\u001b[0m\u001b[0mlog_level\u001b[0m\u001b[1;33m,\u001b[0m\u001b[1;33m\u001b[0m\u001b[1;33m\u001b[0m\u001b[0m\n\u001b[0;32m    303\u001b[0m                                   \u001b[0mmax_log_file_size\u001b[0m\u001b[1;33m=\u001b[0m\u001b[0mmax_log_file_size\u001b[0m\u001b[1;33m,\u001b[0m \u001b[0mport\u001b[0m\u001b[1;33m=\u001b[0m\u001b[0mport\u001b[0m\u001b[1;33m,\u001b[0m \u001b[0mname\u001b[0m\u001b[1;33m=\u001b[0m\u001b[0mname\u001b[0m\u001b[1;33m,\u001b[0m\u001b[1;33m\u001b[0m\u001b[1;33m\u001b[0m\u001b[0m\n",
      "\u001b[1;32m~\\anaconda3\\lib\\site-packages\\h2o\\backend\\server.py\u001b[0m in \u001b[0;36mstart\u001b[1;34m(jar_path, nthreads, enable_assertions, max_mem_size, min_mem_size, ice_root, log_dir, log_level, max_log_file_size, port, name, extra_classpath, verbose, jvm_custom_args, bind_to_localhost)\u001b[0m\n\u001b[0;32m    139\u001b[0m \u001b[1;33m\u001b[0m\u001b[0m\n\u001b[0;32m    140\u001b[0m         \u001b[1;32mif\u001b[0m \u001b[0mverbose\u001b[0m\u001b[1;33m:\u001b[0m \u001b[0mprint\u001b[0m\u001b[1;33m(\u001b[0m\u001b[1;34m\"Attempting to start a local H2O server...\"\u001b[0m\u001b[1;33m)\u001b[0m\u001b[1;33m\u001b[0m\u001b[1;33m\u001b[0m\u001b[0m\n\u001b[1;32m--> 141\u001b[1;33m         hs._launch_server(port=port, baseport=baseport, nthreads=int(nthreads), ea=enable_assertions,\n\u001b[0m\u001b[0;32m    142\u001b[0m                           \u001b[0mmmax\u001b[0m\u001b[1;33m=\u001b[0m\u001b[0mmax_mem_size\u001b[0m\u001b[1;33m,\u001b[0m \u001b[0mmmin\u001b[0m\u001b[1;33m=\u001b[0m\u001b[0mmin_mem_size\u001b[0m\u001b[1;33m,\u001b[0m \u001b[0mjvm_custom_args\u001b[0m\u001b[1;33m=\u001b[0m\u001b[0mjvm_custom_args\u001b[0m\u001b[1;33m,\u001b[0m\u001b[1;33m\u001b[0m\u001b[1;33m\u001b[0m\u001b[0m\n\u001b[0;32m    143\u001b[0m                           bind_to_localhost=bind_to_localhost, log_dir=log_dir, log_level=log_level, max_log_file_size=max_log_file_size)\n",
      "\u001b[1;32m~\\anaconda3\\lib\\site-packages\\h2o\\backend\\server.py\u001b[0m in \u001b[0;36m_launch_server\u001b[1;34m(self, port, baseport, mmax, mmin, ea, nthreads, jvm_custom_args, bind_to_localhost, log_dir, log_level, max_log_file_size)\u001b[0m\n\u001b[0;32m    274\u001b[0m \u001b[1;33m\u001b[0m\u001b[0m\n\u001b[0;32m    275\u001b[0m         \u001b[1;31m# Find Java and check version. (Note that subprocess.check_output returns the output as a bytes object)\u001b[0m\u001b[1;33m\u001b[0m\u001b[1;33m\u001b[0m\u001b[1;33m\u001b[0m\u001b[0m\n\u001b[1;32m--> 276\u001b[1;33m         \u001b[0mjava\u001b[0m \u001b[1;33m=\u001b[0m \u001b[0mself\u001b[0m\u001b[1;33m.\u001b[0m\u001b[0m_find_java\u001b[0m\u001b[1;33m(\u001b[0m\u001b[1;33m)\u001b[0m\u001b[1;33m\u001b[0m\u001b[1;33m\u001b[0m\u001b[0m\n\u001b[0m\u001b[0;32m    277\u001b[0m         \u001b[0mself\u001b[0m\u001b[1;33m.\u001b[0m\u001b[0m_check_java\u001b[0m\u001b[1;33m(\u001b[0m\u001b[0mjava\u001b[0m\u001b[1;33m,\u001b[0m \u001b[0mself\u001b[0m\u001b[1;33m.\u001b[0m\u001b[0m_verbose\u001b[0m\u001b[1;33m)\u001b[0m\u001b[1;33m\u001b[0m\u001b[1;33m\u001b[0m\u001b[0m\n\u001b[0;32m    278\u001b[0m \u001b[1;33m\u001b[0m\u001b[0m\n",
      "\u001b[1;32m~\\anaconda3\\lib\\site-packages\\h2o\\backend\\server.py\u001b[0m in \u001b[0;36m_find_java\u001b[1;34m()\u001b[0m\n\u001b[0;32m    439\u001b[0m \u001b[1;33m\u001b[0m\u001b[0m\n\u001b[0;32m    440\u001b[0m         \u001b[1;31m# not found...\u001b[0m\u001b[1;33m\u001b[0m\u001b[1;33m\u001b[0m\u001b[1;33m\u001b[0m\u001b[0m\n\u001b[1;32m--> 441\u001b[1;33m         raise H2OStartupError(\"Cannot find Java. Please install the latest JRE from\\n\"\n\u001b[0m\u001b[0;32m    442\u001b[0m                               \"http://www.oracle.com/technetwork/java/javase/downloads/index.html\")\n\u001b[0;32m    443\u001b[0m \u001b[1;33m\u001b[0m\u001b[0m\n",
      "\u001b[1;31mH2OStartupError\u001b[0m: Cannot find Java. Please install the latest JRE from\nhttp://www.oracle.com/technetwork/java/javase/downloads/index.html"
     ]
    }
   ],
   "source": [
    "h2o.init()"
   ]
  },
  {
   "cell_type": "code",
   "execution_count": null,
   "metadata": {},
   "outputs": [],
   "source": [
    "# full data\n",
    "train_full = h2o.H2OFrame(train)\n",
    "test_full = h2o.H2OFrame(test)\n",
    "\n",
    "# sample data to test \n",
    "train_smpl = train.sample(frac=0.1, random_state=1)\n",
    "test_smpl = test.sample(frac=0.1, random_state=1)\n",
    "train_hex = h2o.H2OFrame(train_smpl)\n",
    "test_hex = h2o.H2OFrame(test_smpl)"
   ]
  },
  {
   "cell_type": "markdown",
   "metadata": {},
   "source": [
    "### Model 1: \n",
    "\n",
    "As a first step, i'll build a test models to measure performance against. Given that we have an ubalanced dataset I'm goint to used balance_classes = True, and stopping metric of AUCPR. \n",
    "\n",
    "The main difference between AUC and AUCPR is that AUC calculates the area under the ROC curve and AUCPR calculates the area under the Precision Recall curve. The Precision Recall curve does not care about True Negatives. For imbalanced data, a large quantity of True Negatives usually overshadows the effects of changes in other metrics like False Positives. The AUCPR will be much more sensitive to True Positives, False Positives, and False Negatives than AUC. As such, AUCPR is recommended over AUC for highly imbalanced data.\n",
    "\n",
    "\n",
    "I'm using more than enough trees to train the preliminary model, however I've implemented early stopping if the models isn't improving as measured by the AUCPR after 5 consecutive attempts "
   ]
  },
  {
   "cell_type": "code",
   "execution_count": null,
   "metadata": {},
   "outputs": [],
   "source": [
    "rf_v1 = H2ORandomForestEstimator(\n",
    "        model_id = 'rf_v1',\n",
    "        max_depth = 10,\n",
    "        ntrees = 900,\n",
    "        balance_classes = True, \n",
    "        stopping_rounds = 5, \n",
    "        stopping_tolerance = 1e-4, stopping_metric = \"AUCPR\",  \n",
    "        nfolds=10,\n",
    "        min_rows=100,\n",
    "        seed=1234)"
   ]
  },
  {
   "cell_type": "code",
   "execution_count": null,
   "metadata": {},
   "outputs": [],
   "source": [
    "rf_v1.train(list(predictors),target,training_frame=train_hex,validation_frame=test_hex)"
   ]
  },
  {
   "cell_type": "code",
   "execution_count": null,
   "metadata": {},
   "outputs": [],
   "source": [
    "rf_v1_test = rf_v1.model_performance(test_hex)"
   ]
  },
  {
   "cell_type": "code",
   "execution_count": null,
   "metadata": {},
   "outputs": [],
   "source": [
    "plot_auc(rf_v1_test)"
   ]
  },
  {
   "cell_type": "code",
   "execution_count": null,
   "metadata": {},
   "outputs": [],
   "source": [
    "rf_v1_test.gains_lift()"
   ]
  },
  {
   "cell_type": "code",
   "execution_count": null,
   "metadata": {},
   "outputs": [],
   "source": [
    "# prescion recall curve\n",
    "rf_v1_test.pr_auc()"
   ]
  },
  {
   "cell_type": "markdown",
   "metadata": {},
   "source": [
    "### Model 2:\n",
    "I'm going to focus on optimizing the precision-recall curve and lift. The models performed better than a random guess as indicated by the gains table, and it performed terribly on the precision-recall curve. \n",
    "\n",
    "Max_depth is one of the most powerful levers that tends to increase the predictive power of a random forest model. For the second, I want to see if decreasing max depth to the default values improves the model performance. \n"
   ]
  },
  {
   "cell_type": "code",
   "execution_count": null,
   "metadata": {},
   "outputs": [],
   "source": [
    "rf_v2 = H2ORandomForestEstimator(\n",
    "        model_id = 'rf_v2',\n",
    "        ntrees = 900,\n",
    "        balance_classes = True, \n",
    "        stopping_rounds = 5, stopping_tolerance = 1e-4, stopping_metric = \"AUCPR\",\n",
    "        nfolds=10,\n",
    "        min_rows=100,\n",
    "        seed=1234)\n",
    "\n",
    "rf_v2.train(list(predictors),target,training_frame=train_hex,validation_frame=test_hex)"
   ]
  },
  {
   "cell_type": "code",
   "execution_count": null,
   "metadata": {},
   "outputs": [],
   "source": [
    "rf_v2_test = rf_v2.model_performance(test_data=test_hex)"
   ]
  },
  {
   "cell_type": "code",
   "execution_count": null,
   "metadata": {},
   "outputs": [],
   "source": [
    "plot_auc(rf_v2_test)"
   ]
  },
  {
   "cell_type": "code",
   "execution_count": null,
   "metadata": {},
   "outputs": [],
   "source": [
    "# precision recall \n",
    "rf_v2_test.pr_auc()"
   ]
  },
  {
   "cell_type": "code",
   "execution_count": null,
   "metadata": {},
   "outputs": [],
   "source": [
    "rf_v2_test.gains_lift()"
   ]
  },
  {
   "cell_type": "markdown",
   "metadata": {},
   "source": [
    "## Model 3: \n",
    "\n",
    "Hyperparameter Tuning is one of the most exciting aspects of training machine learning models, and its searching for the right set of hyperparameters to achieve high precision and accuracy.\n",
    "\n",
    "The primary aim of hyperparameter tuning is to find the sweet spot for the model's parameters to achieve the best performance.\n",
    "\n",
    "There are ways to test how different hyperparameters impact the performance of the model: two of the most popular techniques are grid search and random search. \n",
    "\n",
    "- Grid search: Try every combination of a preset list of values of the hyper-parameters and evaluate the model for each combination. Brute force approach. \n",
    "- Random search: A technique where random combinations of the hyperparameters are used to find the best solution for the built model. It tries random combinations of a range of values.\n",
    "\n",
    "I found that random search performs better than grid search. While an exhaustive grid search might give be the absolute optimal values, I have generally found the incremental gain in performance isn't worth the computational cost. "
   ]
  },
  {
   "cell_type": "code",
   "execution_count": null,
   "metadata": {},
   "outputs": [],
   "source": [
    "rf_v3 = H2ORandomForestEstimator(nfolds = 5,seed = 1234,balance_classes = True)\n",
    "\n",
    "hyper_params = {'max_depth': [0,5,10,20,30],\n",
    "                 'ntrees': [200,500,700,900]}\n",
    "\n",
    "rf_grid = H2OGridSearch(model = rf_v3, hyper_params = hyper_params,\n",
    "                     search_criteria = {'strategy': \"RandomDiscrete\",'max_models': 36, \n",
    "                                        'seed': 1,\"stopping_metric\": \"AUCPR\",\n",
    "                                        \"stopping_tolerance\": 0.05, \n",
    "                                        \"stopping_rounds\": 3})"
   ]
  },
  {
   "cell_type": "code",
   "execution_count": null,
   "metadata": {},
   "outputs": [],
   "source": [
    "rf_grid.train(x = list(predictors), y = target, training_frame=train_hex,validation_frame=test_hex)"
   ]
  },
  {
   "cell_type": "code",
   "execution_count": null,
   "metadata": {},
   "outputs": [],
   "source": [
    "# Get the grid results, sorted by validation AUC\n",
    "rf_grid = rf_grid.get_grid(sort_by='recall', decreasing=True)"
   ]
  },
  {
   "cell_type": "code",
   "execution_count": null,
   "metadata": {},
   "outputs": [],
   "source": [
    "rf_grid= rf_grid.models[0]"
   ]
  },
  {
   "cell_type": "code",
   "execution_count": null,
   "metadata": {},
   "outputs": [],
   "source": [
    "rf_grid_test = rf_grid.model_performance(test_hex)"
   ]
  },
  {
   "cell_type": "code",
   "execution_count": null,
   "metadata": {},
   "outputs": [],
   "source": [
    "plot_auc(rf_grid_test)"
   ]
  },
  {
   "cell_type": "code",
   "execution_count": null,
   "metadata": {},
   "outputs": [],
   "source": [
    "rf_grid_test.gains_lift()"
   ]
  },
  {
   "cell_type": "code",
   "execution_count": null,
   "metadata": {},
   "outputs": [],
   "source": [
    "# precision recall curve\n",
    "rf_grid_test.pr_auc()"
   ]
  },
  {
   "cell_type": "markdown",
   "metadata": {},
   "source": [
    "Final Model: test the best performing model on the entire data set \n",
    "\n",
    "The best performing model is model 2. Lets test it on the entire dataset "
   ]
  },
  {
   "cell_type": "code",
   "execution_count": null,
   "metadata": {},
   "outputs": [],
   "source": [
    "rf_v2.train(x = list(predictors), y = target, training_frame=train_full,validation_frame=test_full)"
   ]
  },
  {
   "cell_type": "code",
   "execution_count": null,
   "metadata": {},
   "outputs": [],
   "source": [
    "rf_v2_test = rf_grid.model_performance(test_full)"
   ]
  },
  {
   "cell_type": "code",
   "execution_count": null,
   "metadata": {},
   "outputs": [],
   "source": [
    "plot_auc(rf_v2_test)"
   ]
  },
  {
   "cell_type": "code",
   "execution_count": null,
   "metadata": {},
   "outputs": [],
   "source": [
    "rf_v2_test.gains_lift()"
   ]
  },
  {
   "cell_type": "code",
   "execution_count": null,
   "metadata": {},
   "outputs": [],
   "source": [
    "rf_v2_test.pr_auc()"
   ]
  },
  {
   "cell_type": "markdown",
   "metadata": {},
   "source": [
    "### Gradient Boosting\n",
    "\n",
    "I train a GBM with parameters. Iuse early stopping to automatically tune the number of trees using the validation AUC. I also use a lower learning rate, and stochastic sampling of rows and columns to improve generalization. I use this first model to benchmark peformance against. "
   ]
  },
  {
   "cell_type": "markdown",
   "metadata": {},
   "source": [
    "### Model 1 \n",
    "\n",
    "The first model with random paramaters performs slightly better than the optimized random forest model.  "
   ]
  },
  {
   "cell_type": "code",
   "execution_count": null,
   "metadata": {},
   "outputs": [],
   "source": [
    "gbm_v1 = H2OGradientBoostingEstimator(\n",
    "        model_id = 'gbm_v1',\n",
    "        nfolds = 10,\n",
    "        ntrees = 10000,\n",
    "        learn_rate = 0.01,\n",
    "        stopping_rounds = 5, stopping_tolerance = 1e-4, stopping_metric = \"AUCPR\",\n",
    "        sample_rate = 0.8,\n",
    "        balance_classes = True,\n",
    "        col_sample_rate = 0.8,\n",
    "        score_tree_interval = 10,\n",
    "        seed=9181)"
   ]
  },
  {
   "cell_type": "code",
   "execution_count": null,
   "metadata": {},
   "outputs": [],
   "source": [
    "gbm_v1.train(list(predictors),target,training_frame=train_hex)"
   ]
  },
  {
   "cell_type": "code",
   "execution_count": null,
   "metadata": {},
   "outputs": [],
   "source": [
    "gbm_v1_test = gbm_v1.model_performance(test_hex)"
   ]
  },
  {
   "cell_type": "code",
   "execution_count": null,
   "metadata": {},
   "outputs": [],
   "source": [
    "plot_auc(gbm_v1_test)"
   ]
  },
  {
   "cell_type": "code",
   "execution_count": null,
   "metadata": {},
   "outputs": [],
   "source": [
    "gbm_v1_test.gains_lift()"
   ]
  },
  {
   "cell_type": "code",
   "execution_count": null,
   "metadata": {},
   "outputs": [],
   "source": [
    "gbm_v1_test.pr_auc()"
   ]
  },
  {
   "cell_type": "markdown",
   "metadata": {},
   "source": [
    "### Model 2\n",
    "\n",
    "Next, we'll do real hyper-parameter optimization to see if we can beat the best prescision recall.\n",
    "\n",
    "The key here is to start tuning some key parameters first (i.e., those that we expect to have the biggest impact on the results). From experience with gradient boosted trees across many datasets, we can state the following \"rules\":\n",
    "\n",
    "1. Build as many trees (ntrees) as it takes until the validation set error starts increasing.\n",
    "2. A lower learning rate (learn_rate) is generally better, but will require more trees. Using learn_rate=0.02and learn_rate_annealing=0.995 (reduction of learning rate with each additional tree) can help speed up convergence without sacrificing accuracy too much, and is great to hyper-parameter searches. For faster scans, use values of 0.05 and 0.99 instead.\n",
    "  \n",
    "3. The optimum maximum allowed depth for the trees (max_depth) is data dependent, deeper trees take longer to train, especially at depths greater than 10.\n",
    "4. Row and column sampling (sample_rate and col_sample_rate) can improve generalization and lead to lower validation and test set errors. Good general values for large datasets are around 0.7 to 0.8 (sampling 70-80 percent of the data) for both parameters. Column sampling per tree (col_sample_rate_per_tree) can also be tuned. Note that it is multiplicative with col_sample_rate, so setting both parameters to 0.8 results in 64% of columns being considered at any given node to split.\n",
    "5. For highly imbalanced classification datasets, stratified row sampling based on response class membership can help improve predictive accuracy. It is configured with sample_rate_per_class (array of ratios, one per response class in lexicographic order).\n",
    "6. Most other options only have a small impact on the model performance, but are worth tuning with a Random hyper-parameter search nonetheless, if highest performance is critical.\n"
   ]
  },
  {
   "cell_type": "code",
   "execution_count": null,
   "metadata": {},
   "outputs": [],
   "source": [
    "hyper_params_tune = {'max_depth' : list(range(12,30+1,1)),\n",
    "                'sample_rate': [x/100. for x in range(20,101)],\n",
    "                'col_sample_rate' : [x/100. for x in range(20,101)],\n",
    "                'col_sample_rate_per_tree': [x/100. for x in range(20,101)],\n",
    "                'col_sample_rate_change_per_level': [x/100. for x in range(90,111)],\n",
    "                'nbins': [2**x for x in range(4,11)],\n",
    "                'nbins_cats': [2**x for x in range(4,13)],\n",
    "                'min_split_improvement': [0,1e-8,1e-6,1e-4],\n",
    "                'histogram_type': [\"UniformAdaptive\",\"QuantilesGlobal\",\"RoundRobin\"]}\n",
    "\n",
    "search_criteria_tune = {'strategy': \"RandomDiscrete\",\n",
    "                   'max_runtime_secs': 3600,  \n",
    "                   'max_models': 20,  \n",
    "                   'seed' : 1234,\n",
    "                   'stopping_rounds' : 5,\n",
    "                   'stopping_metric' : \"AUCPR\",\n",
    "                   'stopping_tolerance': 1e-3\n",
    "                   }"
   ]
  },
  {
   "cell_type": "code",
   "execution_count": null,
   "metadata": {},
   "outputs": [],
   "source": [
    "gbm_grid_v1 = H2OGradientBoostingEstimator(\n",
    "                    ntrees=10000,\n",
    "                    learn_rate=0.01,\n",
    "                    learn_rate_annealing = 0.99,\n",
    "                    score_tree_interval = 10,\n",
    "                    seed = 1234,\n",
    "                    stopping_rounds = 5,\n",
    "                    stopping_metric = \"AUCPR\",\n",
    "                    stopping_tolerance = 1e-4)\n",
    "            \n",
    "#Build grid search with previously made GBM and hyper parameters\n",
    "gbm_v2 = H2OGridSearch(gbm_grid_v1, hyper_params = hyper_params_tune,\n",
    "                                    grid_id = 'final_grid',\n",
    "                                    search_criteria = search_criteria_tune)"
   ]
  },
  {
   "cell_type": "code",
   "execution_count": null,
   "metadata": {},
   "outputs": [],
   "source": [
    "gbm_v2.train(list(predictors),target,training_frame=train_hex)"
   ]
  },
  {
   "cell_type": "code",
   "execution_count": null,
   "metadata": {},
   "outputs": [],
   "source": [
    "sorted_gbm_v2 = gbm_v2.get_grid(sort_by='recall',decreasing=True)\n",
    "print(sorted_gbm_v2)"
   ]
  },
  {
   "cell_type": "code",
   "execution_count": null,
   "metadata": {},
   "outputs": [],
   "source": [
    "gbm_v2_top_model = sorted_gbm_v2.models[0]"
   ]
  },
  {
   "cell_type": "code",
   "execution_count": null,
   "metadata": {},
   "outputs": [],
   "source": [
    "gbm_v2_test = gbm_v2_top_model.model_performance(test_data=test_hex)"
   ]
  },
  {
   "cell_type": "code",
   "execution_count": null,
   "metadata": {},
   "outputs": [],
   "source": [
    "plot_auc(gbm_v2_test)"
   ]
  },
  {
   "cell_type": "code",
   "execution_count": null,
   "metadata": {},
   "outputs": [],
   "source": [
    "gbm_v2_test.gains_lift()"
   ]
  },
  {
   "cell_type": "code",
   "execution_count": null,
   "metadata": {},
   "outputs": [],
   "source": [
    "gbm_v2_test.pr_auc()"
   ]
  },
  {
   "cell_type": "markdown",
   "metadata": {},
   "source": [
    "The best model was the first model with random values intialized  lets train it on the full model"
   ]
  },
  {
   "cell_type": "code",
   "execution_count": null,
   "metadata": {},
   "outputs": [],
   "source": [
    "gbm_v1.train(list(predictors),target,training_frame=train_full, validation_frame=test_full)"
   ]
  },
  {
   "cell_type": "code",
   "execution_count": null,
   "metadata": {},
   "outputs": [],
   "source": []
  },
  {
   "cell_type": "markdown",
   "metadata": {},
   "source": [
    "Concusion: \n",
    "\n",
    "- All paramters are not created equal. Certain parameters have greater impact on model performance. \n",
    "- Early stopping is a great to stop running models if performance isn't improving \n",
    "- Understanding your data and cleaning data, can dramatatically improve performance. \n",
    "- In both examples the best model was where the hyperamaters were random"
   ]
  }
 ],
 "metadata": {
  "kernelspec": {
   "display_name": "Python 3",
   "language": "python",
   "name": "python3"
  },
  "language_info": {
   "codemirror_mode": {
    "name": "ipython",
    "version": 3
   },
   "file_extension": ".py",
   "mimetype": "text/x-python",
   "name": "python",
   "nbconvert_exporter": "python",
   "pygments_lexer": "ipython3",
   "version": "3.8.3"
  }
 },
 "nbformat": 4,
 "nbformat_minor": 4
}
